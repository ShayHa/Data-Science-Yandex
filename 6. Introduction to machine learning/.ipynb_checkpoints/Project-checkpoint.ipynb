{
 "cells": [
  {
   "cell_type": "markdown",
   "metadata": {},
   "source": [
    "## Review\n",
    "\n",
    "Hi Shay! My name is Soslan. I'm reviewing your work. I've added all my comments to new cells with the title \"Review\". My apologies for the delay in the review. We will be faster next time :)\n",
    "\n",
    "```diff\n",
    "+ If you did something great I'm using green color for my comment\n",
    "- If the topic requires some extra work so I can accept it then the color will be red.\n",
    "```\n",
    "\n",
    "There isn't any red comment in your work, only greens. Your project is very good and I accept it. Good luck with your future learning.\n",
    "\n",
    "---"
   ]
  },
  {
   "cell_type": "code",
   "execution_count": 2,
   "metadata": {},
   "outputs": [],
   "source": [
    "import pandas as pd\n",
    "import numpy as np\n",
    "\n",
    "from sklearn.tree import DecisionTreeClassifier\n",
    "from sklearn.ensemble import RandomForestClassifier\n",
    "\n",
    "from sklearn.tree import DecisionTreeRegressor\n",
    "from sklearn.ensemble import RandomForestRegressor\n",
    "from sklearn.linear_model import LogisticRegression\n",
    "\n",
    "from sklearn.model_selection import train_test_split\n",
    "from sklearn.metrics import mean_squared_error\n",
    "from sklearn.metrics import accuracy_score\n",
    "\n",
    "from collections import defaultdict"
   ]
  },
  {
   "cell_type": "markdown",
   "metadata": {},
   "source": [
    "# Intro"
   ]
  },
  {
   "cell_type": "markdown",
   "metadata": {},
   "source": [
    "**This project has 4 steps:**\n",
    "<ol>\n",
    "    <li>Over view and Splitting is where I split the data into train, valid and test </li>\n",
    "    <li>Models is where I build the models </li>\n",
    "    <li>Check on Test is where I check the best model on the test set </li>\n",
    "    <li>Summay all of my inputs </li>\n",
    "</ol>"
   ]
  },
  {
   "cell_type": "markdown",
   "metadata": {},
   "source": [
    "# Over view and Splitting"
   ]
  },
  {
   "cell_type": "code",
   "execution_count": 3,
   "metadata": {},
   "outputs": [],
   "source": [
    "df1 = pd.read_csv('/datasets/users_behavior.csv')\n",
    "#df1 = pd.read_csv('users_behavior.csv')"
   ]
  },
  {
   "cell_type": "code",
   "execution_count": 4,
   "metadata": {},
   "outputs": [
    {
     "data": {
      "text/html": [
       "<div>\n",
       "<style scoped>\n",
       "    .dataframe tbody tr th:only-of-type {\n",
       "        vertical-align: middle;\n",
       "    }\n",
       "\n",
       "    .dataframe tbody tr th {\n",
       "        vertical-align: top;\n",
       "    }\n",
       "\n",
       "    .dataframe thead th {\n",
       "        text-align: right;\n",
       "    }\n",
       "</style>\n",
       "<table border=\"1\" class=\"dataframe\">\n",
       "  <thead>\n",
       "    <tr style=\"text-align: right;\">\n",
       "      <th></th>\n",
       "      <th>calls</th>\n",
       "      <th>minutes</th>\n",
       "      <th>messages</th>\n",
       "      <th>mb_used</th>\n",
       "      <th>is_ultra</th>\n",
       "    </tr>\n",
       "  </thead>\n",
       "  <tbody>\n",
       "    <tr>\n",
       "      <td>528</td>\n",
       "      <td>58.0</td>\n",
       "      <td>348.49</td>\n",
       "      <td>11.0</td>\n",
       "      <td>18960.55</td>\n",
       "      <td>0</td>\n",
       "    </tr>\n",
       "    <tr>\n",
       "      <td>2421</td>\n",
       "      <td>52.0</td>\n",
       "      <td>336.34</td>\n",
       "      <td>73.0</td>\n",
       "      <td>4347.26</td>\n",
       "      <td>1</td>\n",
       "    </tr>\n",
       "    <tr>\n",
       "      <td>198</td>\n",
       "      <td>2.0</td>\n",
       "      <td>6.42</td>\n",
       "      <td>133.0</td>\n",
       "      <td>26247.41</td>\n",
       "      <td>1</td>\n",
       "    </tr>\n",
       "    <tr>\n",
       "      <td>1622</td>\n",
       "      <td>74.0</td>\n",
       "      <td>545.52</td>\n",
       "      <td>47.0</td>\n",
       "      <td>13534.15</td>\n",
       "      <td>0</td>\n",
       "    </tr>\n",
       "    <tr>\n",
       "      <td>2736</td>\n",
       "      <td>56.0</td>\n",
       "      <td>364.76</td>\n",
       "      <td>153.0</td>\n",
       "      <td>19464.21</td>\n",
       "      <td>1</td>\n",
       "    </tr>\n",
       "    <tr>\n",
       "      <td>1910</td>\n",
       "      <td>111.0</td>\n",
       "      <td>728.20</td>\n",
       "      <td>37.0</td>\n",
       "      <td>14135.23</td>\n",
       "      <td>0</td>\n",
       "    </tr>\n",
       "    <tr>\n",
       "      <td>212</td>\n",
       "      <td>25.0</td>\n",
       "      <td>190.95</td>\n",
       "      <td>37.0</td>\n",
       "      <td>14253.53</td>\n",
       "      <td>0</td>\n",
       "    </tr>\n",
       "    <tr>\n",
       "      <td>1654</td>\n",
       "      <td>45.0</td>\n",
       "      <td>317.56</td>\n",
       "      <td>10.0</td>\n",
       "      <td>16900.68</td>\n",
       "      <td>0</td>\n",
       "    </tr>\n",
       "    <tr>\n",
       "      <td>2761</td>\n",
       "      <td>119.0</td>\n",
       "      <td>823.54</td>\n",
       "      <td>76.0</td>\n",
       "      <td>18735.17</td>\n",
       "      <td>0</td>\n",
       "    </tr>\n",
       "    <tr>\n",
       "      <td>2592</td>\n",
       "      <td>56.0</td>\n",
       "      <td>429.44</td>\n",
       "      <td>17.0</td>\n",
       "      <td>19794.75</td>\n",
       "      <td>0</td>\n",
       "    </tr>\n",
       "  </tbody>\n",
       "</table>\n",
       "</div>"
      ],
      "text/plain": [
       "      calls  minutes  messages   mb_used  is_ultra\n",
       "528    58.0   348.49      11.0  18960.55         0\n",
       "2421   52.0   336.34      73.0   4347.26         1\n",
       "198     2.0     6.42     133.0  26247.41         1\n",
       "1622   74.0   545.52      47.0  13534.15         0\n",
       "2736   56.0   364.76     153.0  19464.21         1\n",
       "1910  111.0   728.20      37.0  14135.23         0\n",
       "212    25.0   190.95      37.0  14253.53         0\n",
       "1654   45.0   317.56      10.0  16900.68         0\n",
       "2761  119.0   823.54      76.0  18735.17         0\n",
       "2592   56.0   429.44      17.0  19794.75         0"
      ]
     },
     "execution_count": 4,
     "metadata": {},
     "output_type": "execute_result"
    }
   ],
   "source": [
    "df1.sample(10)"
   ]
  },
  {
   "cell_type": "code",
   "execution_count": 5,
   "metadata": {},
   "outputs": [
    {
     "data": {
      "text/plain": [
       "(3214, 5)"
      ]
     },
     "execution_count": 5,
     "metadata": {},
     "output_type": "execute_result"
    }
   ],
   "source": [
    "df1.shape"
   ]
  },
  {
   "cell_type": "markdown",
   "metadata": {},
   "source": [
    "Splitting to Train and Test"
   ]
  },
  {
   "cell_type": "code",
   "execution_count": 6,
   "metadata": {},
   "outputs": [],
   "source": [
    "df, df_test = train_test_split(df1, test_size=0.20, random_state=42)"
   ]
  },
  {
   "cell_type": "code",
   "execution_count": 7,
   "metadata": {},
   "outputs": [],
   "source": [
    "X_test = df_test[df_test.columns.difference(['is_ultra'])]\n",
    "y_test = df_test['is_ultra']"
   ]
  },
  {
   "cell_type": "markdown",
   "metadata": {},
   "source": [
    "Splitting to Train and Validation"
   ]
  },
  {
   "cell_type": "code",
   "execution_count": 8,
   "metadata": {},
   "outputs": [],
   "source": [
    "df_train, df_valid = train_test_split(df, test_size=0.20)"
   ]
  },
  {
   "cell_type": "code",
   "execution_count": 9,
   "metadata": {},
   "outputs": [],
   "source": [
    "X = df[df.columns.difference(['is_ultra'])]\n",
    "y = df['is_ultra']"
   ]
  },
  {
   "cell_type": "code",
   "execution_count": 10,
   "metadata": {},
   "outputs": [],
   "source": [
    "X_train, X_valid, y_train, y_valid = train_test_split(X,y,test_size=0.20, random_state=42)"
   ]
  },
  {
   "cell_type": "markdown",
   "metadata": {},
   "source": [
    "## Review\n",
    "\n",
    "```diff\n",
    "+ Good accurate work. Enough explanations.\n",
    "```\n",
    "\n",
    "---"
   ]
  },
  {
   "cell_type": "markdown",
   "metadata": {},
   "source": [
    "# Models"
   ]
  },
  {
   "cell_type": "markdown",
   "metadata": {},
   "source": [
    "Logistic"
   ]
  },
  {
   "cell_type": "markdown",
   "metadata": {},
   "source": [
    "I will try a few combos of the logistic model:\n",
    "1) regular model\n",
    "\n",
    "2) l1 penalty\n",
    "\n",
    "3) lbfgs solver"
   ]
  },
  {
   "cell_type": "code",
   "execution_count": 14,
   "metadata": {},
   "outputs": [
    {
     "name": "stderr",
     "output_type": "stream",
     "text": [
      "/opt/conda/lib/python3.7/site-packages/sklearn/linear_model/logistic.py:432: FutureWarning: Default solver will be changed to 'lbfgs' in 0.22. Specify a solver to silence this warning.\n",
      "  FutureWarning)\n"
     ]
    },
    {
     "data": {
      "text/plain": [
       "0.7495145631067961"
      ]
     },
     "execution_count": 14,
     "metadata": {},
     "output_type": "execute_result"
    }
   ],
   "source": [
    "model = LogisticRegression()\n",
    "model.fit(X_train, y_train)\n",
    "predict = model.predict(X_valid)\n",
    "regular_logistic_acc = model.score(X_valid, y_valid)\n",
    "regular_logistic_acc"
   ]
  },
  {
   "cell_type": "code",
   "execution_count": 15,
   "metadata": {},
   "outputs": [
    {
     "name": "stderr",
     "output_type": "stream",
     "text": [
      "/opt/conda/lib/python3.7/site-packages/sklearn/linear_model/logistic.py:432: FutureWarning: Default solver will be changed to 'lbfgs' in 0.22. Specify a solver to silence this warning.\n",
      "  FutureWarning)\n"
     ]
    },
    {
     "data": {
      "text/plain": [
       "0.7475728155339806"
      ]
     },
     "execution_count": 15,
     "metadata": {},
     "output_type": "execute_result"
    }
   ],
   "source": [
    "model = LogisticRegression(penalty='l1')\n",
    "model.fit(X_train, y_train)\n",
    "predict = model.predict(X_valid)\n",
    "logistic_l1 = model.score(X_valid, y_valid)\n",
    "logistic_l1"
   ]
  },
  {
   "cell_type": "code",
   "execution_count": 16,
   "metadata": {},
   "outputs": [
    {
     "data": {
      "text/plain": [
       "0.7165048543689321"
      ]
     },
     "execution_count": 16,
     "metadata": {},
     "output_type": "execute_result"
    }
   ],
   "source": [
    "model = LogisticRegression(solver='lbfgs')\n",
    "model.fit(X_train, y_train)\n",
    "predict = model.predict(X_valid)\n",
    "logistic_diff_solver = model.score(X_valid, y_valid)\n",
    "logistic_diff_solver"
   ]
  },
  {
   "cell_type": "markdown",
   "metadata": {},
   "source": [
    "Decision Tree"
   ]
  },
  {
   "cell_type": "code",
   "execution_count": 17,
   "metadata": {},
   "outputs": [],
   "source": [
    "def build_dt_model(depth, x_train, y_train):\n",
    "    model = DecisionTreeClassifier(max_depth=depth)\n",
    "    model.fit(x_train,y_train)\n",
    "    return model"
   ]
  },
  {
   "cell_type": "code",
   "execution_count": 18,
   "metadata": {},
   "outputs": [],
   "source": [
    "dt_results = defaultdict(list)\n",
    "for depth in range(1,5):\n",
    "    model = build_dt_model(depth, X_train, y_train)\n",
    "    acc_train = model.score(X_train, y_train)\n",
    "    acc_valid = model.score(X_valid, y_valid)\n",
    "    dt_results['depth'].append(depth)\n",
    "    dt_results['acc_train'].append(acc_train)\n",
    "    dt_results['acc_valid'].append(acc_valid)"
   ]
  },
  {
   "cell_type": "code",
   "execution_count": 19,
   "metadata": {},
   "outputs": [
    {
     "data": {
      "text/html": [
       "<div>\n",
       "<style scoped>\n",
       "    .dataframe tbody tr th:only-of-type {\n",
       "        vertical-align: middle;\n",
       "    }\n",
       "\n",
       "    .dataframe tbody tr th {\n",
       "        vertical-align: top;\n",
       "    }\n",
       "\n",
       "    .dataframe thead th {\n",
       "        text-align: right;\n",
       "    }\n",
       "</style>\n",
       "<table border=\"1\" class=\"dataframe\">\n",
       "  <thead>\n",
       "    <tr style=\"text-align: right;\">\n",
       "      <th></th>\n",
       "      <th>depth</th>\n",
       "      <th>acc_train</th>\n",
       "      <th>acc_valid</th>\n",
       "    </tr>\n",
       "  </thead>\n",
       "  <tbody>\n",
       "    <tr>\n",
       "      <td>2</td>\n",
       "      <td>3</td>\n",
       "      <td>0.794747</td>\n",
       "      <td>0.798058</td>\n",
       "    </tr>\n",
       "    <tr>\n",
       "      <td>3</td>\n",
       "      <td>4</td>\n",
       "      <td>0.800097</td>\n",
       "      <td>0.796117</td>\n",
       "    </tr>\n",
       "    <tr>\n",
       "      <td>1</td>\n",
       "      <td>2</td>\n",
       "      <td>0.778696</td>\n",
       "      <td>0.776699</td>\n",
       "    </tr>\n",
       "    <tr>\n",
       "      <td>0</td>\n",
       "      <td>1</td>\n",
       "      <td>0.748541</td>\n",
       "      <td>0.737864</td>\n",
       "    </tr>\n",
       "  </tbody>\n",
       "</table>\n",
       "</div>"
      ],
      "text/plain": [
       "   depth  acc_train  acc_valid\n",
       "2      3   0.794747   0.798058\n",
       "3      4   0.800097   0.796117\n",
       "1      2   0.778696   0.776699\n",
       "0      1   0.748541   0.737864"
      ]
     },
     "execution_count": 19,
     "metadata": {},
     "output_type": "execute_result"
    }
   ],
   "source": [
    "pd.DataFrame(dt_results).sort_values(by='acc_valid', ascending = False)"
   ]
  },
  {
   "cell_type": "markdown",
   "metadata": {},
   "source": [
    "Random Forest"
   ]
  },
  {
   "cell_type": "code",
   "execution_count": 20,
   "metadata": {},
   "outputs": [],
   "source": [
    "def build_rf_model(estim, depth, x_train, y_train):\n",
    "    model = RandomForestClassifier(n_estimators=estim, max_depth=depth)\n",
    "    model.fit(x_train, y_train)\n",
    "    return model"
   ]
  },
  {
   "cell_type": "code",
   "execution_count": 21,
   "metadata": {},
   "outputs": [],
   "source": [
    "rf_results = defaultdict(list)\n",
    "for depth in range(1,5):\n",
    "    for estim in range(1,11):\n",
    "        model = build_rf_model(estim, depth, X_train, y_train)\n",
    "        acc_train = model.score(X_train,y_train)\n",
    "        acc_valid = model.score(X_valid,y_valid)\n",
    "        rf_results['depth'].append(depth)\n",
    "        rf_results['estim'].append(estim)\n",
    "        rf_results['acc_train'].append(acc_train)\n",
    "        rf_results['acc_valid'].append(acc_valid)"
   ]
  },
  {
   "cell_type": "code",
   "execution_count": 22,
   "metadata": {},
   "outputs": [
    {
     "data": {
      "text/html": [
       "<div>\n",
       "<style scoped>\n",
       "    .dataframe tbody tr th:only-of-type {\n",
       "        vertical-align: middle;\n",
       "    }\n",
       "\n",
       "    .dataframe tbody tr th {\n",
       "        vertical-align: top;\n",
       "    }\n",
       "\n",
       "    .dataframe thead th {\n",
       "        text-align: right;\n",
       "    }\n",
       "</style>\n",
       "<table border=\"1\" class=\"dataframe\">\n",
       "  <thead>\n",
       "    <tr style=\"text-align: right;\">\n",
       "      <th></th>\n",
       "      <th>depth</th>\n",
       "      <th>estim</th>\n",
       "      <th>acc_train</th>\n",
       "      <th>acc_valid</th>\n",
       "    </tr>\n",
       "  </thead>\n",
       "  <tbody>\n",
       "    <tr>\n",
       "      <td>37</td>\n",
       "      <td>4</td>\n",
       "      <td>8</td>\n",
       "      <td>0.809339</td>\n",
       "      <td>0.819417</td>\n",
       "    </tr>\n",
       "    <tr>\n",
       "      <td>39</td>\n",
       "      <td>4</td>\n",
       "      <td>10</td>\n",
       "      <td>0.806420</td>\n",
       "      <td>0.817476</td>\n",
       "    </tr>\n",
       "    <tr>\n",
       "      <td>36</td>\n",
       "      <td>4</td>\n",
       "      <td>7</td>\n",
       "      <td>0.804961</td>\n",
       "      <td>0.817476</td>\n",
       "    </tr>\n",
       "    <tr>\n",
       "      <td>34</td>\n",
       "      <td>4</td>\n",
       "      <td>5</td>\n",
       "      <td>0.805447</td>\n",
       "      <td>0.813592</td>\n",
       "    </tr>\n",
       "    <tr>\n",
       "      <td>25</td>\n",
       "      <td>3</td>\n",
       "      <td>6</td>\n",
       "      <td>0.796693</td>\n",
       "      <td>0.811650</td>\n",
       "    </tr>\n",
       "  </tbody>\n",
       "</table>\n",
       "</div>"
      ],
      "text/plain": [
       "    depth  estim  acc_train  acc_valid\n",
       "37      4      8   0.809339   0.819417\n",
       "39      4     10   0.806420   0.817476\n",
       "36      4      7   0.804961   0.817476\n",
       "34      4      5   0.805447   0.813592\n",
       "25      3      6   0.796693   0.811650"
      ]
     },
     "execution_count": 22,
     "metadata": {},
     "output_type": "execute_result"
    }
   ],
   "source": [
    "pd.DataFrame(rf_results).sort_values(by='acc_valid', ascending = False).head()"
   ]
  },
  {
   "cell_type": "markdown",
   "metadata": {},
   "source": [
    "DT Regression"
   ]
  },
  {
   "cell_type": "code",
   "execution_count": 23,
   "metadata": {},
   "outputs": [],
   "source": [
    "def build_dtr_model(depth, x_train, y_train):\n",
    "    model = DecisionTreeRegressor(max_depth=depth)\n",
    "    model.fit(x_train,y_train)\n",
    "    return model"
   ]
  },
  {
   "cell_type": "code",
   "execution_count": 24,
   "metadata": {},
   "outputs": [],
   "source": [
    "dtr_results = defaultdict(list)\n",
    "for depth in range(1,5):\n",
    "    model = build_dtr_model(depth, X_train, y_train)\n",
    "    acc_train = model.score(X_train,y_train)\n",
    "    acc_valid = model.score(X_valid,y_valid)\n",
    "    dtr_results['depth'].append(depth)\n",
    "    dtr_results['acc_train'].append(acc_valid)\n",
    "    dtr_results['acc_valid'].append(acc_valid)"
   ]
  },
  {
   "cell_type": "code",
   "execution_count": 25,
   "metadata": {},
   "outputs": [
    {
     "data": {
      "text/html": [
       "<div>\n",
       "<style scoped>\n",
       "    .dataframe tbody tr th:only-of-type {\n",
       "        vertical-align: middle;\n",
       "    }\n",
       "\n",
       "    .dataframe tbody tr th {\n",
       "        vertical-align: top;\n",
       "    }\n",
       "\n",
       "    .dataframe thead th {\n",
       "        text-align: right;\n",
       "    }\n",
       "</style>\n",
       "<table border=\"1\" class=\"dataframe\">\n",
       "  <thead>\n",
       "    <tr style=\"text-align: right;\">\n",
       "      <th></th>\n",
       "      <th>depth</th>\n",
       "      <th>acc_train</th>\n",
       "      <th>acc_valid</th>\n",
       "    </tr>\n",
       "  </thead>\n",
       "  <tbody>\n",
       "    <tr>\n",
       "      <td>2</td>\n",
       "      <td>3</td>\n",
       "      <td>0.251920</td>\n",
       "      <td>0.251920</td>\n",
       "    </tr>\n",
       "    <tr>\n",
       "      <td>3</td>\n",
       "      <td>4</td>\n",
       "      <td>0.233417</td>\n",
       "      <td>0.233417</td>\n",
       "    </tr>\n",
       "    <tr>\n",
       "      <td>1</td>\n",
       "      <td>2</td>\n",
       "      <td>0.201961</td>\n",
       "      <td>0.201961</td>\n",
       "    </tr>\n",
       "    <tr>\n",
       "      <td>0</td>\n",
       "      <td>1</td>\n",
       "      <td>0.086602</td>\n",
       "      <td>0.086602</td>\n",
       "    </tr>\n",
       "  </tbody>\n",
       "</table>\n",
       "</div>"
      ],
      "text/plain": [
       "   depth  acc_train  acc_valid\n",
       "2      3   0.251920   0.251920\n",
       "3      4   0.233417   0.233417\n",
       "1      2   0.201961   0.201961\n",
       "0      1   0.086602   0.086602"
      ]
     },
     "execution_count": 25,
     "metadata": {},
     "output_type": "execute_result"
    }
   ],
   "source": [
    "pd.DataFrame(dtr_results).sort_values(by='acc_valid', ascending = False).head()"
   ]
  },
  {
   "cell_type": "markdown",
   "metadata": {},
   "source": [
    "RF Regression"
   ]
  },
  {
   "cell_type": "code",
   "execution_count": 26,
   "metadata": {},
   "outputs": [],
   "source": [
    "def build_rfr_model(estim, depth, x_train, y_train):\n",
    "    model = RandomForestRegressor(n_estimators=estim, max_depth=depth)\n",
    "    model.fit(x_train, y_train)\n",
    "    return model"
   ]
  },
  {
   "cell_type": "code",
   "execution_count": 27,
   "metadata": {},
   "outputs": [],
   "source": [
    "rfr_results = defaultdict(list)\n",
    "for depth in range(1,5):\n",
    "    for estim in range(1,11):\n",
    "        model = build_rfr_model(estim, depth, X_train, y_train)\n",
    "        acc_train = model.score(X_train,y_train)\n",
    "        acc_valid = model.score(X_valid,y_valid)\n",
    "        rfr_results['depth'].append(depth)\n",
    "        rfr_results['estim'].append(estim)\n",
    "        rfr_results['acc_train'].append(acc_train)\n",
    "        rfr_results['acc_valid'].append(acc_valid)"
   ]
  },
  {
   "cell_type": "code",
   "execution_count": 28,
   "metadata": {},
   "outputs": [
    {
     "data": {
      "text/html": [
       "<div>\n",
       "<style scoped>\n",
       "    .dataframe tbody tr th:only-of-type {\n",
       "        vertical-align: middle;\n",
       "    }\n",
       "\n",
       "    .dataframe tbody tr th {\n",
       "        vertical-align: top;\n",
       "    }\n",
       "\n",
       "    .dataframe thead th {\n",
       "        text-align: right;\n",
       "    }\n",
       "</style>\n",
       "<table border=\"1\" class=\"dataframe\">\n",
       "  <thead>\n",
       "    <tr style=\"text-align: right;\">\n",
       "      <th></th>\n",
       "      <th>depth</th>\n",
       "      <th>estim</th>\n",
       "      <th>acc_train</th>\n",
       "      <th>acc_valid</th>\n",
       "    </tr>\n",
       "  </thead>\n",
       "  <tbody>\n",
       "    <tr>\n",
       "      <td>31</td>\n",
       "      <td>4</td>\n",
       "      <td>2</td>\n",
       "      <td>0.311905</td>\n",
       "      <td>0.302432</td>\n",
       "    </tr>\n",
       "    <tr>\n",
       "      <td>36</td>\n",
       "      <td>4</td>\n",
       "      <td>7</td>\n",
       "      <td>0.326655</td>\n",
       "      <td>0.292718</td>\n",
       "    </tr>\n",
       "    <tr>\n",
       "      <td>39</td>\n",
       "      <td>4</td>\n",
       "      <td>10</td>\n",
       "      <td>0.326713</td>\n",
       "      <td>0.292363</td>\n",
       "    </tr>\n",
       "    <tr>\n",
       "      <td>33</td>\n",
       "      <td>4</td>\n",
       "      <td>4</td>\n",
       "      <td>0.317224</td>\n",
       "      <td>0.291581</td>\n",
       "    </tr>\n",
       "    <tr>\n",
       "      <td>34</td>\n",
       "      <td>4</td>\n",
       "      <td>5</td>\n",
       "      <td>0.318515</td>\n",
       "      <td>0.291381</td>\n",
       "    </tr>\n",
       "  </tbody>\n",
       "</table>\n",
       "</div>"
      ],
      "text/plain": [
       "    depth  estim  acc_train  acc_valid\n",
       "31      4      2   0.311905   0.302432\n",
       "36      4      7   0.326655   0.292718\n",
       "39      4     10   0.326713   0.292363\n",
       "33      4      4   0.317224   0.291581\n",
       "34      4      5   0.318515   0.291381"
      ]
     },
     "execution_count": 28,
     "metadata": {},
     "output_type": "execute_result"
    }
   ],
   "source": [
    "pd.DataFrame(rfr_results).sort_values(by='acc_valid', ascending = False).head()"
   ]
  },
  {
   "cell_type": "markdown",
   "metadata": {},
   "source": [
    "## Review\n",
    "\n",
    "```diff\n",
    "+ You look through enough number of models. Nice work.\n",
    "```\n",
    "\n",
    "---"
   ]
  },
  {
   "cell_type": "markdown",
   "metadata": {},
   "source": [
    "# Check on Test"
   ]
  },
  {
   "cell_type": "markdown",
   "metadata": {},
   "source": [
    "Since the highest ACC was from Random Forest, will use this model on the test set."
   ]
  },
  {
   "cell_type": "code",
   "execution_count": 25,
   "metadata": {},
   "outputs": [],
   "source": [
    "model = build_rf_model(6,4, X_train, y_train)"
   ]
  },
  {
   "cell_type": "code",
   "execution_count": 26,
   "metadata": {},
   "outputs": [
    {
     "data": {
      "text/plain": [
       "0.8009331259720062"
      ]
     },
     "execution_count": 26,
     "metadata": {},
     "output_type": "execute_result"
    }
   ],
   "source": [
    "model.score(X_test, y_test)"
   ]
  },
  {
   "cell_type": "markdown",
   "metadata": {},
   "source": [
    "# Summary"
   ]
  },
  {
   "cell_type": "markdown",
   "metadata": {},
   "source": [
    "In this project I check the models:\n",
    "* [ ] Logistic with a few changes\n",
    "* [ ] Decision Tree and Regression tree\n",
    "* [ ] Random Forest and Regression Forest"
   ]
  },
  {
   "cell_type": "markdown",
   "metadata": {},
   "source": [
    "Since we are in a classification problem the tree regression are useless, I just checked to see the difference.<br>\n",
    "Highest ACC with a small margin was random forest model\n",
    "\n",
    "While checking the model on the test set I got roughly the same ACC.\n",
    "\n",
    "To Conclude:\n",
    "Best model was Random forest with 6 trees and depth of 4."
   ]
  },
  {
   "cell_type": "markdown",
   "metadata": {},
   "source": [
    "## Review\n",
    "\n",
    "```diff\n",
    "+ Check and Summary are also good done\n",
    "```\n",
    "\n",
    "---"
   ]
  },
  {
   "cell_type": "code",
   "execution_count": null,
   "metadata": {},
   "outputs": [],
   "source": []
  }
 ],
 "metadata": {
  "kernelspec": {
   "display_name": "Python 3",
   "language": "python",
   "name": "python3"
  },
  "language_info": {
   "codemirror_mode": {
    "name": "ipython",
    "version": 3
   },
   "file_extension": ".py",
   "mimetype": "text/x-python",
   "name": "python",
   "nbconvert_exporter": "python",
   "pygments_lexer": "ipython3",
   "version": "3.7.6"
  }
 },
 "nbformat": 4,
 "nbformat_minor": 4
}
